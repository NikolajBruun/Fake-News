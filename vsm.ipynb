{
 "cells": [
  {
   "cell_type": "code",
   "execution_count": 1,
   "metadata": {},
   "outputs": [],
   "source": [
    "\n",
    "\n",
    "import pandas as pd\n",
    "from sklearn import svm\n",
    "from sklearn.model_selection import train_test_split\n",
    "from sklearn.feature_extraction.text import CountVectorizer  # Til tekstbehandling\n",
    "from sklearn.metrics import accuracy_score\n",
    "import numpy as np\n",
    "from sklearn.feature_extraction.text import TfidfVectorizer\n",
    "from sklearn.svm import SVC\n",
    "from sklearn.svm import LinearSVC\n",
    "from sklearn.metrics import accuracy_score, classification_report, f1_score\n",
    "\n"
   ]
  },
  {
   "cell_type": "code",
   "execution_count": 2,
   "metadata": {},
   "outputs": [],
   "source": [
    "df=pd.read_csv(\"C:/Users/Danie/GDS/CSV/Fully_cleaned_Training_set.csv\")\n",
    "#\"C:\\Users\\Danie\\GDS\\CSV\\Fully_cleaned_Training_set.csv\" "
   ]
  },
  {
   "cell_type": "code",
   "execution_count": 3,
   "metadata": {},
   "outputs": [
    {
     "data": {
      "text/plain": [
       "broad_category\n",
       "Fake News        347272\n",
       "Reliable News    330477\n",
       "Name: count, dtype: int64"
      ]
     },
     "execution_count": 3,
     "metadata": {},
     "output_type": "execute_result"
    }
   ],
   "source": [
    "df['broad_category'].value_counts()"
   ]
  },
  {
   "cell_type": "code",
   "execution_count": 7,
   "metadata": {},
   "outputs": [],
   "source": [
    "df = df.dropna(subset=['content'])\n",
    "X_train, X_test, y_train, y_test = train_test_split(df['content'], df['broad_category'], test_size=0.2, random_state=42)"
   ]
  },
  {
   "cell_type": "markdown",
   "metadata": {},
   "source": [
    "X_train_vec og X_test_vec indeholder tekst nemlig 'content'.\n",
    "Ved brug af modulet 'TfidfVectorizer' kan vi omdanne hver tekst til en række af vægtede tal baseret på TF-IDF (Term Frequency-Inverse Document Frequency).\n",
    "- Term Frequency (TF): Hvor ofte et ord optræder i en given tekst.\n",
    "- Inverse Document Frequency (IDF): Hvor sjældent ordet optræder på tværs af alle dokumenter – jo sjældnere, desto vigtigere."
   ]
  },
  {
   "cell_type": "code",
   "execution_count": 13,
   "metadata": {},
   "outputs": [],
   "source": [
    "#Vektoriser tekstdata (TF-IDF)\n",
    "vectorizer = TfidfVectorizer(\n",
    "    max_features=20000,\n",
    "    sublinear_tf=True,\n",
    "    min_df=2,\n",
    "    ngram_range=(1,2))\n",
    "X_train_vec = vectorizer.fit_transform(X_train)\n",
    "X_test_vec = vectorizer.transform(X_test)"
   ]
  },
  {
   "cell_type": "code",
   "execution_count": 14,
   "metadata": {},
   "outputs": [
    {
     "name": "stdout",
     "output_type": "stream",
     "text": [
      "(542197, 20000)\n"
     ]
    }
   ],
   "source": [
    "print(X_train_vec.shape)\n"
   ]
  },
  {
   "cell_type": "markdown",
   "metadata": {},
   "source": [
    "Dette betyder at vi har 542197 tekster og 1330616 unikke ord."
   ]
  },
  {
   "cell_type": "code",
   "execution_count": 15,
   "metadata": {},
   "outputs": [
    {
     "name": "stdout",
     "output_type": "stream",
     "text": [
      "  (0, 9468)\t0.07190273972407592\n",
      "  (0, 16977)\t0.12112100636865247\n",
      "  (0, 6610)\t0.08161806057994309\n",
      "  (0, 4016)\t0.13534268095289292\n",
      "  (0, 17006)\t0.11625624752101084\n",
      "  (0, 19230)\t0.07835925516299556\n",
      "  (0, 14329)\t0.1046953837066282\n",
      "  (0, 6835)\t0.12289009095992764\n",
      "  (0, 5142)\t0.08963320833278582\n",
      "  (0, 1038)\t0.05201130135068944\n",
      "  (0, 19548)\t0.046714035493249546\n",
      "  (0, 18168)\t0.04086784643993807\n",
      "  (0, 9059)\t0.1590468666195599\n",
      "  (0, 9944)\t0.03838103087026444\n",
      "  (0, 12442)\t0.0744364197125583\n",
      "  (0, 16296)\t0.11266397060755372\n",
      "  (0, 18492)\t0.06549543032927188\n",
      "  (0, 6058)\t0.041913018591987906\n",
      "  (0, 10345)\t0.1044863405419083\n",
      "  (0, 11548)\t0.06899269290240263\n",
      "  (0, 16171)\t0.0694431396213956\n",
      "  (0, 15845)\t0.04837542764221845\n",
      "  (0, 1557)\t0.06736938037754478\n",
      "  (0, 1939)\t0.06609827204092901\n",
      "  (0, 18833)\t0.09019538520451623\n",
      "  :\t:\n",
      "  (0, 11642)\t0.08229159115269233\n",
      "  (0, 12092)\t0.05928963083786174\n",
      "  (0, 8270)\t0.09196334690116478\n",
      "  (0, 18099)\t0.06888004844595562\n",
      "  (0, 16958)\t0.07978733282140876\n",
      "  (0, 10365)\t0.05562669121034487\n",
      "  (0, 8533)\t0.09342225760398569\n",
      "  (0, 12925)\t0.13470134844866952\n",
      "  (0, 18021)\t0.09579432060061782\n",
      "  (0, 12458)\t0.12991241337897488\n",
      "  (0, 1678)\t0.12568330101394534\n",
      "  (0, 1047)\t0.08486409126074711\n",
      "  (0, 6075)\t0.13951802056962087\n",
      "  (0, 11556)\t0.1317774758559944\n",
      "  (0, 16180)\t0.10684870385964143\n",
      "  (0, 9292)\t0.13854472857518135\n",
      "  (0, 10488)\t0.14556241857945007\n",
      "  (0, 17039)\t0.13309963513597875\n",
      "  (0, 13286)\t0.11479448330946992\n",
      "  (0, 18883)\t0.10091197976943997\n",
      "  (0, 1469)\t0.12165326533487134\n",
      "  (0, 13049)\t0.12861112580541348\n",
      "  (0, 17341)\t0.11696615930955391\n",
      "  (0, 11364)\t0.08479855912577906\n",
      "  (0, 12535)\t0.1091547982734703\n"
     ]
    }
   ],
   "source": [
    "print(X_train_vec[0])"
   ]
  },
  {
   "cell_type": "markdown",
   "metadata": {},
   "source": [
    "Forklaring af outputtet når teksten er blevet nummeriseret:\n",
    "Eksempel på output: \n",
    "(0, 2394)\t0.09388827930025204\n",
    "\n",
    "Række (0): Angiver, at vi ser på den første tekst i datasættet.\n",
    "Kolonne (2394): Hver kolonne repræsenterer en unik funktion (ord) i vokabularet.\n",
    "Værdi (0.0939 osv.): TF-IDF-vægten – en højere værdi betyder, at ordet er vigtigere i denne tekst i forhold til resten af korpuset."
   ]
  },
  {
   "cell_type": "code",
   "execution_count": 16,
   "metadata": {},
   "outputs": [
    {
     "name": "stdout",
     "output_type": "stream",
     "text": [
      "Model accuracy: 89.38%\n",
      "Model F1-score: 0.89\n"
     ]
    }
   ],
   "source": [
    "\n",
    "\n",
    "# Træn SVM-model\n",
    "model = LinearSVC(class_weight='balanced',C=0.8, dual=False, max_iter=10000)\n",
    "model.fit(X_train_vec, y_train)\n",
    "\n",
    "# Forudsig på testdata\n",
    "y_pred = model.predict(X_test_vec)\n",
    "\n",
    "# Evaluer præstation\n",
    "accuracy = accuracy_score(y_test, y_pred)\n",
    "f1 = f1_score(y_test, y_pred, average='weighted') \n",
    "print(f\"Model accuracy: {accuracy * 100:.2f}%\")\n",
    "print(f\"Model F1-score: {f1:.2f}\")"
   ]
  },
  {
   "cell_type": "code",
   "execution_count": 17,
   "metadata": {},
   "outputs": [
    {
     "name": "stdout",
     "output_type": "stream",
     "text": [
      "Prediction: Fake News\n",
      "Prediction: Reliable News\n",
      "Prediction: Fake News\n",
      "Prediction: Reliable News\n"
     ]
    }
   ],
   "source": [
    "# Funktion til at forudsige om en nyhed er fake eller ægte\n",
    "def predict_news(news_text):\n",
    "    news_vec = vectorizer.transform([news_text])  # Vektoriser ny tekst\n",
    "    prediction = model.predict(news_vec)          # Forudsig\n",
    "    return prediction[0]\n",
    "\n",
    "#Conspiracy\n",
    "new_article = \"\"\"\n",
    "look like your use ad blocker pleas whitelist disabl abovetopsecretcom adblock tool thank\n",
    "\"\"\"\n",
    "\n",
    "result = predict_news(new_article)\n",
    "print(f\"Prediction: {result}\")\n",
    "\n",
    "#Reliable\n",
    "new_article2 =\"\"\"editor suppos let iran bomb week review march unit state iran share interest iraq stabil well afghanistan must work togeth contain present iraqi nose dive toward civil war turn requir mutual moratorium side demon side disallow incendiari rhetor supplant prudent foreign policymak doubtless good gener result success dialogu iraq extend larger issu region secur like even motiv iran endors call gulf cooper council persian gulf nuclearweaponsfre zone kaveh l afrasiabi cambridg mass writer former advis iran nuclear negoti team author book iran nuclear program\"\"\"\n",
    "result2 = predict_news(new_article2)\n",
    "print(f\"Prediction: {result2}\")\n",
    "\n",
    "#Political1\n",
    "new_article3=\"\"\"convict fraudster former pharmaceut compani ceo martin shkreli dub hate man america head jail bail revok facebook post offer cur strand hillari clinton hair us district judg kiyo matsumoto rule wednesday shkreli\"\"\"\n",
    "print(f\"Prediction: {predict_news(new_article3)}\")\n",
    "\n",
    "#Political2\n",
    "new_article4=\"\"\"red eye open thread dko list complet hit leadership delay blunt hit swing state hit toptier race knowl stork murphi embrac famili seemann newberri david vs goliath two well morrison target race verg toptier\"\"\"\n",
    "print(f\"Prediction: {predict_news(new_article4)}\")\n"
   ]
  },
  {
   "cell_type": "code",
   "execution_count": null,
   "metadata": {},
   "outputs": [],
   "source": []
  }
 ],
 "metadata": {
  "kernelspec": {
   "display_name": "base",
   "language": "python",
   "name": "python3"
  },
  "language_info": {
   "codemirror_mode": {
    "name": "ipython",
    "version": 3
   },
   "file_extension": ".py",
   "mimetype": "text/x-python",
   "name": "python",
   "nbconvert_exporter": "python",
   "pygments_lexer": "ipython3",
   "version": "3.12.7"
  }
 },
 "nbformat": 4,
 "nbformat_minor": 2
}
