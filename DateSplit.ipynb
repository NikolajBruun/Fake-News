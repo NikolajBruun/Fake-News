{
 "cells": [
  {
   "cell_type": "code",
   "execution_count": 5,
   "metadata": {},
   "outputs": [
    {
     "name": "stderr",
     "output_type": "stream",
     "text": [
      "/var/folders/ql/3l_9_vz123j8hhscd3j0_52c0000gp/T/ipykernel_6892/530945391.py:5: DtypeWarning: Columns (0,1) have mixed types. Specify dtype option on import or set low_memory=False.\n",
      "  df = pd.read_csv('/Users/thomas/Desktop/995,000_rows.csv')\n"
     ]
    }
   ],
   "source": [
    "import pandas as pd\n",
    "from sklearn.model_selection import train_test_split\n",
    "# Load your dataset\n",
    "# Make sure to replace 'path_to_dataset.csv' with the path to your actual data file\n",
    "df = pd.read_csv('/Users/thomas/Desktop/995,000_rows.csv')\n",
    "\n",
    "\n"
   ]
  },
  {
   "cell_type": "code",
   "execution_count": 28,
   "metadata": {},
   "outputs": [],
   "source": [
    "\n",
    "#Sorting by value in 's\n",
    "\n",
    "\n",
    "\n",
    "df = df.sort_values(by=['scraped_at'])\n",
    "\n",
    "# Drop all rows where 'scraped_at' is NaN\n",
    "\n"
   ]
  },
  {
   "cell_type": "code",
   "execution_count": 29,
   "metadata": {},
   "outputs": [],
   "source": [
    "#sletter alle rækker med NaN i \"scraped_at (Kun 13 rækker)\"\n",
    "\n",
    "df = df.dropna(subset=['scraped_at'])"
   ]
  },
  {
   "cell_type": "code",
   "execution_count": 33,
   "metadata": {},
   "outputs": [],
   "source": [
    "#splitter data fra dataset med kronoligsk rækkefølge i \"sraped_at-kolonnen\"\n",
    "\n",
    "# Først splittes dataene i træningssæt (80%) og resten (20%)\n",
    "train, temp = train_test_split(df, test_size=0.2, shuffle=False)\n",
    "\n",
    "# Dernæst splittes den resterende del (temp) i valideringssæt (50% af 20% = 10%) og testset (50% af 20% = 10%)\n",
    "val, test = train_test_split(temp, test_size=0.5, shuffle=False)\n"
   ]
  },
  {
   "cell_type": "code",
   "execution_count": 34,
   "metadata": {},
   "outputs": [
    {
     "name": "stdout",
     "output_type": "stream",
     "text": [
      "True\n"
     ]
    }
   ],
   "source": [
    "\n",
    "#tjekker om den rent faktisk har sorted den\n",
    "\n",
    "\n",
    "sortedScraped_at= df['scraped_at']\n",
    "\n",
    "\n",
    "\n",
    "#tjekker\n",
    "\n",
    "print(sortedScraped_at.is_monotonic_increasing)\n",
    "\n",
    "#dette giver \"True\" hvilket vil sige at den er sorted i stigende rækkefølge for alle 995.000k rækker. ( notér at de sidste rækker er alle der hvor der ikke er dato, men NaN)\n",
    "\n",
    "#da der kun er 13 NaN's i scraped_at vælger vi at slette dem fra datasettet. (bliver gjort oppe i den tidligere code-cell inden splitten. )\n"
   ]
  }
 ],
 "metadata": {
  "kernelspec": {
   "display_name": "Python 3",
   "language": "python",
   "name": "python3"
  },
  "language_info": {
   "codemirror_mode": {
    "name": "ipython",
    "version": 3
   },
   "file_extension": ".py",
   "mimetype": "text/x-python",
   "name": "python",
   "nbconvert_exporter": "python",
   "pygments_lexer": "ipython3",
   "version": "3.12.7"
  }
 },
 "nbformat": 4,
 "nbformat_minor": 2
}
