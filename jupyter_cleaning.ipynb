{
 "cells": [
  {
   "cell_type": "markdown",
   "metadata": {},
   "source": [
    "# Denne kode indlæser en csv renser den, stemmer den, laver graf, tæller ord, og til sidst laver den det til en csv"
   ]
  },
  {
   "cell_type": "markdown",
   "metadata": {},
   "source": [
    "## Vigtigt at bemærke ingen opdeling er sket inden det her så vi risikere leakage pt"
   ]
  },
  {
   "cell_type": "markdown",
   "metadata": {},
   "source": [
    "### Jeg anbefaler at ændre csv navnet i bunden alt efter om det er træning, val eller test det bliver kørt på"
   ]
  },
  {
   "cell_type": "code",
   "execution_count": 2,
   "metadata": {},
   "outputs": [],
   "source": [
    "#Jeg indlæser først modulerne\n",
    "import re\n",
    "import pandas as pd \n",
    "import matplotlib.pyplot as plt\n",
    "import nltk\n",
    "from nltk.tokenize import word_tokenize\n",
    "from nltk.corpus import stopwords\n",
    "from nltk.stem import PorterStemmer\n",
    "from cleantext import clean \n",
    "import matplotlib.pyplot as plt\n",
    "from collections import Counter \n",
    "from pandarallel import pandarallel\n",
    "import pandas as pd\n",
    "\n"
   ]
  },
  {
   "cell_type": "code",
   "execution_count": 59,
   "metadata": {},
   "outputs": [
    {
     "name": "stderr",
     "output_type": "stream",
     "text": [
      "C:\\Users\\thran\\AppData\\Local\\Temp\\ipykernel_16160\\1310260051.py:2: DtypeWarning: Columns (0) have mixed types. Specify dtype option on import or set low_memory=False.\n",
      "  df = pd.DataFrame(pd.read_csv(\"val_set.csv\")) #INDLÆS FIL HER\n"
     ]
    }
   ],
   "source": [
    "#Læser data-filen\n",
    "df = pd.DataFrame(pd.read_csv(\"val_set.csv\")) #INDLÆS FIL HER\n",
    "\n",
    "temp_df = df[[\"content\",\"id\"]].copy()"
   ]
  },
  {
   "cell_type": "markdown",
   "metadata": {},
   "source": [
    "### Tæller vocab før cleaning"
   ]
  },
  {
   "cell_type": "code",
   "execution_count": null,
   "metadata": {},
   "outputs": [
    {
     "name": "stdout",
     "output_type": "stream",
     "text": [
      "antal uncleaned words 1372671\n"
     ]
    }
   ],
   "source": [
    "#Gør den raw dataframe 'content' til en string\n",
    "uncleaned_string = '\\n'.join(df[\"content\"].astype(str))\n",
    "\n",
    "#Gør 'uncleaned_string' til en liste\n",
    "uncleaned_list=uncleaned_string.split() \n",
    "\n",
    "print(\"antal uncleaned words\",len(set(uncleaned_list)))     #Gør listen til et set så gentagne elementer kun optræder 1 gang"
   ]
  },
  {
   "cell_type": "markdown",
   "metadata": {},
   "source": [
    "## OVERVEJ OM REMOVE_SPECIAL_CHARS SKAL I BRUG, DA no_punct=True IK ER OPTIMAL"
   ]
  },
  {
   "cell_type": "code",
   "execution_count": null,
   "metadata": {},
   "outputs": [],
   "source": [
    "#Funktion der gør tekst til lower-case\n",
    "def all_lower(x):\n",
    "    x= x.lower()\n",
    "    return x\n",
    "\n",
    "#Funktion der fjerner tegn\n",
    "def remove_special_chars(x):\n",
    "    import re \n",
    "    return re.sub(r\"[^a-zA-Z0-9<>]\", \" \", x)\n",
    "\n",
    "\n",
    "#Funktion der erstatter datoer med <DATE>\n",
    "\n",
    "def sub_dates(x):\n",
    "    import re \n",
    "    sub_dates = re.sub(r'\\d{4}[-/]\\d{2}[-/]\\d{2}|\\d{2}[-/]\\d{2}[-/]\\d{4}', ' <DATE> ', x)\n",
    "    sub_dates = re.sub(r'\\b[a-z]+\\s\\d{1,2},\\s\\d{4}\\b', '<DATE>', sub_dates)\n",
    "    sub_dates = re.sub(r'\\b\\d{1,2}[,]?\\s[a-zA-Z]+\\s\\d{4}\\b', '<DATE>', sub_dates)\n",
    "    return sub_dates\n",
    "\n"
   ]
  },
  {
   "cell_type": "code",
   "execution_count": null,
   "metadata": {},
   "outputs": [
    {
     "name": "stdout",
     "output_type": "stream",
     "text": [
      "INFO: Pandarallel will run on 4 workers.\n",
      "INFO: Pandarallel will use standard multiprocessing data transfer (pipe) to transfer data between the main process and workers.\n",
      "\n",
      "WARNING: You are on Windows. If you detect any issue with pandarallel, be sure you checked out the Troubleshooting page:\n",
      "https://nalepae.github.io/pandarallel/troubleshooting/\n"
     ]
    }
   ],
   "source": [
    "# Initialiser pandarallel\n",
    "pandarallel.initialize(progress_bar=True)  #giver os en progress\n",
    "  # kan også manuelt indstilles"
   ]
  },
  {
   "cell_type": "markdown",
   "metadata": {},
   "source": [
    "### Main cleaning function"
   ]
  },
  {
   "cell_type": "code",
   "execution_count": null,
   "metadata": {},
   "outputs": [
    {
     "data": {
      "application/vnd.jupyter.widget-view+json": {
       "model_id": "5e762ae172414b17b57ff3d1b66b1b03",
       "version_major": 2,
       "version_minor": 0
      },
      "text/plain": [
       "VBox(children=(HBox(children=(IntProgress(value=0, description='0.00%', max=24875), Label(value='0 / 24875')))…"
      ]
     },
     "metadata": {},
     "output_type": "display_data"
    },
    {
     "data": {
      "application/vnd.jupyter.widget-view+json": {
       "model_id": "7e5e25039a584f7598347b6fe8ef954f",
       "version_major": 2,
       "version_minor": 0
      },
      "text/plain": [
       "VBox(children=(HBox(children=(IntProgress(value=0, description='0.00%', max=24875), Label(value='0 / 24875')))…"
      ]
     },
     "metadata": {},
     "output_type": "display_data"
    },
    {
     "data": {
      "application/vnd.jupyter.widget-view+json": {
       "model_id": "2a9a556b86e34c8bbbedcb9e6390fc4c",
       "version_major": 2,
       "version_minor": 0
      },
      "text/plain": [
       "VBox(children=(HBox(children=(IntProgress(value=0, description='0.00%', max=24875), Label(value='0 / 24875')))…"
      ]
     },
     "metadata": {},
     "output_type": "display_data"
    },
    {
     "data": {
      "application/vnd.jupyter.widget-view+json": {
       "model_id": "340e65e7001f4589a0a42157a25cf8bb",
       "version_major": 2,
       "version_minor": 0
      },
      "text/plain": [
       "VBox(children=(HBox(children=(IntProgress(value=0, description='0.00%', max=24875), Label(value='0 / 24875')))…"
      ]
     },
     "metadata": {},
     "output_type": "display_data"
    },
    {
     "data": {
      "application/vnd.jupyter.widget-view+json": {
       "model_id": "3ef4cf4af73548b7b38a36fb28c372ff",
       "version_major": 2,
       "version_minor": 0
      },
      "text/plain": [
       "VBox(children=(HBox(children=(IntProgress(value=0, description='0.00%', max=24875), Label(value='0 / 24875')))…"
      ]
     },
     "metadata": {},
     "output_type": "display_data"
    },
    {
     "data": {
      "application/vnd.jupyter.widget-view+json": {
       "model_id": "3b53f5308bcd441dba4e3f6beca99382",
       "version_major": 2,
       "version_minor": 0
      },
      "text/plain": [
       "VBox(children=(HBox(children=(IntProgress(value=0, description='0.00%', max=24875), Label(value='0 / 24875')))…"
      ]
     },
     "metadata": {},
     "output_type": "display_data"
    }
   ],
   "source": [
    "#Funktion til at cleane tekst\n",
    "def autocleandf(x):\n",
    "    from cleantext import clean \n",
    "    from nltk.tokenize import word_tokenize\n",
    "    from nltk.corpus import stopwords\n",
    "    stop_words = set(stopwords.words('english'))\n",
    "\n",
    "    x['content']=x['content'].astype(str).fillna(\"\")\n",
    "\n",
    "    x['content']=x['content'].parallel_apply(all_lower)\n",
    "\n",
    "    x['content']=x['content'].parallel_apply(sub_dates)          #Applyer funktionen 'sub_dates' på 'content' kolonnen\n",
    "    \n",
    "    x['content']=x['content'].parallel_apply(                    #Applyer clean funktion fra modulet cleantext.\n",
    "        lambda x: clean(str(x), lower=True, no_urls=True, no_emails=True, no_numbers=True, no_punct=True, no_currency_symbols=True))\n",
    "    \n",
    "    x['content']=x['content'].parallel_apply(lambda x: word_tokenize(str(x)))  #Applyer word_tokenize funktion fra nltk, som laver det til en liste af strings\n",
    "    \n",
    "    exclude_words = {\"number\", \"date\", \"url\", \"email\", \"<\", \">\"}\n",
    "    \n",
    "    x['content'] = x['content'].parallel_apply(\n",
    "    lambda x: [word for word in x if word not in exclude_words])\n",
    "    \n",
    "    x['content']=x['content'].parallel_apply(\n",
    "        lambda x: [word for word in x if word not in stop_words])\n",
    "\n",
    "autocleandf(temp_df)"
   ]
  },
  {
   "cell_type": "markdown",
   "metadata": {},
   "source": [
    "### STEMMING"
   ]
  },
  {
   "cell_type": "code",
   "execution_count": null,
   "metadata": {},
   "outputs": [
    {
     "data": {
      "application/vnd.jupyter.widget-view+json": {
       "model_id": "11ae071ca78445e78c4f953630458931",
       "version_major": 2,
       "version_minor": 0
      },
      "text/plain": [
       "VBox(children=(HBox(children=(IntProgress(value=0, description='0.00%', max=24875), Label(value='0 / 24875')))…"
      ]
     },
     "metadata": {},
     "output_type": "display_data"
    }
   ],
   "source": [
    "from nltk.stem import PorterStemmer\n",
    "\n",
    "def stemming(dataframe):\n",
    "    ps = PorterStemmer()\n",
    "    dataframe['content'] = dataframe['content'].parallel_apply(lambda x: \" \".join(ps.stem(word) for word in x))\n",
    "\n",
    "stemming(temp_df)\n"
   ]
  },
  {
   "cell_type": "markdown",
   "metadata": {},
   "source": [
    "Mapper den midlertidige dataframe tilbage i den originale"
   ]
  },
  {
   "cell_type": "code",
   "execution_count": null,
   "metadata": {},
   "outputs": [],
   "source": [
    "# Brug map til at opdatere content baseret på id\n",
    "df['content'] = df['id'].map(temp_df.set_index('id')['content'])\n"
   ]
  },
  {
   "cell_type": "code",
   "execution_count": null,
   "metadata": {},
   "outputs": [
    {
     "name": "stdout",
     "output_type": "stream",
     "text": [
      "cleaned vocabulary 434682\n",
      "Procentsvis ændring: 68.33312570892807 %\n"
     ]
    }
   ],
   "source": [
    "#Gør den raw dataframe 'content' til en string\n",
    "cleaned_string = '\\n'.join(df[\"content\"].astype(str))\n",
    "\n",
    "#Gør 'uncleaned_string' til en liste\n",
    "cleaned_list=cleaned_string.split() \n",
    "\n",
    "print(\"cleaned vocabulary\",len(set(cleaned_list)))     #Gør listen til et set så gentagne elementer kun optræder 1 gang\n",
    "\n",
    "cleaned_antal_ord = Counter(cleaned_list)\n",
    "\n",
    "#print(\"Total wordcount after cleaning:\", len(cleaned_antal_ord))\n",
    "\n",
    "prior = len(set(uncleaned_list))  # Antal unikke ord før rensning\n",
    "after = len(set(cleaned_list))    # Antal unikke ord efter rensning\n",
    "diff = prior - after              # Hvor mange ord er fjernet\n",
    "\n",
    "print(\"Procentsvis ændring:\", (diff / prior) * 100, \"%\")"
   ]
  },
  {
   "cell_type": "code",
   "execution_count": null,
   "metadata": {},
   "outputs": [
    {
     "data": {
      "image/png": "[encoded data removed]",
      "text/plain": [
       "<Figure size 1500x600 with 1 Axes>"
      ]
     },
     "metadata": {},
     "output_type": "display_data"
    }
   ],
   "source": [
    "hypiggeste_ord = cleaned_antal_ord.most_common(10000)   #De 10000 mest hyppige ord i 'ord_antal', laves til en liste mad tupler, \n",
    "                                                        #bestående af ord og ordet's hyppighed\n",
    "\n",
    "ord = [ord for ord, tælling in hypiggeste_ord]          #Laver en liste med ordene fra 'hypiggeste_ord'. \n",
    "                                                        #Her itereres gennem hver tuple og udtrækkes ordet.\n",
    "antal = [tælling for ord, tælling in hypiggeste_ord]    #Laver en liste med antal forekomster fra 'hypiggeste_ord'. \n",
    "                                                        #Her itereres gennem hver tuple og udtrækkes antal forekomster.\n",
    "#Plottet\n",
    "plt.figure(figsize=(15, 6))                             #Figurens højde og bredde\n",
    "plt.bar(ord, antal, color = \"hotpink\")                  #'ord' og 'antal' sættes på x- og y-aksen i plottet\n",
    "#plt.xticks(rotation=45, ha='right', fontsize=11)   \n",
    "plt.xticks(range(0, len(ord), 200), ord[::200], rotation=45, ha='right', fontsize=11)\n",
    "#Teksten på x-aksen roteres og tekststørrelsen vælges\n",
    "plt.show() "
   ]
  },
  {
   "cell_type": "code",
   "execution_count": null,
   "metadata": {},
   "outputs": [],
   "source": [
    "# Brug map til at opdatere content baseret på id\n",
    "df['content'] = df['id'].map(temp_df.set_index('id')['content'])"
   ]
  },
  {
   "cell_type": "code",
   "execution_count": null,
   "metadata": {},
   "outputs": [
    {
     "data": {
      "text/html": [
       "<div>\n",
       "<style scoped>\n",
       "    .dataframe tbody tr th:only-of-type {\n",
       "        vertical-align: middle;\n",
       "    }\n",
       "\n",
       "    .dataframe tbody tr th {\n",
       "        vertical-align: top;\n",
       "    }\n",
       "\n",
       "    .dataframe thead th {\n",
       "        text-align: right;\n",
       "    }\n",
       "</style>\n",
       "<table border=\"1\" class=\"dataframe\">\n",
       "  <thead>\n",
       "    <tr style=\"text-align: right;\">\n",
       "      <th></th>\n",
       "      <th>broad_category</th>\n",
       "      <th>type</th>\n",
       "    </tr>\n",
       "  </thead>\n",
       "  <tbody>\n",
       "    <tr>\n",
       "      <th>0</th>\n",
       "      <td>Fake News</td>\n",
       "      <td>unreliable</td>\n",
       "    </tr>\n",
       "    <tr>\n",
       "      <th>1</th>\n",
       "      <td>Reliable News</td>\n",
       "      <td>political</td>\n",
       "    </tr>\n",
       "    <tr>\n",
       "      <th>2</th>\n",
       "      <td>Fake News</td>\n",
       "      <td>fake</td>\n",
       "    </tr>\n",
       "    <tr>\n",
       "      <th>3</th>\n",
       "      <td>Fake News</td>\n",
       "      <td>bias</td>\n",
       "    </tr>\n",
       "    <tr>\n",
       "      <th>4</th>\n",
       "      <td>Fake News</td>\n",
       "      <td>bias</td>\n",
       "    </tr>\n",
       "    <tr>\n",
       "      <th>5</th>\n",
       "      <td>Fake News</td>\n",
       "      <td>fake</td>\n",
       "    </tr>\n",
       "    <tr>\n",
       "      <th>6</th>\n",
       "      <td>Reliable News</td>\n",
       "      <td>political</td>\n",
       "    </tr>\n",
       "    <tr>\n",
       "      <th>7</th>\n",
       "      <td>NaN</td>\n",
       "      <td>NaN</td>\n",
       "    </tr>\n",
       "    <tr>\n",
       "      <th>8</th>\n",
       "      <td>Reliable News</td>\n",
       "      <td>political</td>\n",
       "    </tr>\n",
       "    <tr>\n",
       "      <th>9</th>\n",
       "      <td>Fake News</td>\n",
       "      <td>bias</td>\n",
       "    </tr>\n",
       "  </tbody>\n",
       "</table>\n",
       "</div>"
      ],
      "text/plain": [
       "  broad_category        type\n",
       "0      Fake News  unreliable\n",
       "1  Reliable News   political\n",
       "2      Fake News        fake\n",
       "3      Fake News        bias\n",
       "4      Fake News        bias\n",
       "5      Fake News        fake\n",
       "6  Reliable News   political\n",
       "7            NaN         NaN\n",
       "8  Reliable News   political\n",
       "9      Fake News        bias"
      ]
     },
     "execution_count": 47,
     "metadata": {},
     "output_type": "execute_result"
    }
   ],
   "source": [
    "category_mapping = {\n",
    "    \"fake\": \"Fake News\",\n",
    "    \"satire\": \"Fake News\",\n",
    "    \"bias\": \"Fake News\",\n",
    "    \"conspiracy\": \"Fake News\",\n",
    "    \"junksci\": \"Fake News\",\n",
    "    \"hate\": \"Fake News\",\n",
    "    \"clickbait\": \"Fake News\",\n",
    "    \"unreliable\": \"Fake News\",\n",
    "    \"political\": \"Reliable News\",\n",
    "    \"reliable\": \"Reliable News\" ,\n",
    "    \"Reliable News\": \"Reliable News\"\n",
    "}\n",
    "\n",
    "# Apply the mapping\n",
    "df['broad_category'] = df['type'].map(category_mapping)\n",
    "\n",
    "# Check the result to make sure mapping is performed correctly\n",
    "df[['broad_category', 'type']].head(10)"
   ]
  },
  {
   "cell_type": "code",
   "execution_count": null,
   "metadata": {},
   "outputs": [],
   "source": [
    "df = df.dropna(subset=['broad_category'])\n"
   ]
  },
  {
   "cell_type": "markdown",
   "metadata": {},
   "source": [
    "## Tjek herunder om alle kategorier bliver tildelt en broad-category"
   ]
  },
  {
   "cell_type": "code",
   "execution_count": null,
   "metadata": {},
   "outputs": [
    {
     "data": {
      "text/plain": [
       "type\n",
       "reliable      22041\n",
       "political     19461\n",
       "bias          13375\n",
       "fake          10447\n",
       "conspiracy     9702\n",
       "unreliable     3472\n",
       "clickbait      2683\n",
       "junksci        1421\n",
       "satire         1329\n",
       "hate            887\n",
       "Name: count, dtype: int64"
      ]
     },
     "execution_count": 49,
     "metadata": {},
     "output_type": "execute_result"
    }
   ],
   "source": [
    "df['type'].value_counts()"
   ]
  },
  {
   "cell_type": "code",
   "execution_count": null,
   "metadata": {},
   "outputs": [],
   "source": [
    "df.to_csv('cleanedStemmedCATbbc.csv')"
   ]
  }
 ],
 "metadata": {
  "kernelspec": {
   "display_name": "Python 3",
   "language": "python",
   "name": "python3"
  },
  "language_info": {
   "codemirror_mode": {
    "name": "ipython",
    "version": 3
   },
   "file_extension": ".py",
   "mimetype": "text/x-python",
   "name": "python",
   "nbconvert_exporter": "python",
   "pygments_lexer": "ipython3",
   "version": "3.13.2"
  }
 },
 "nbformat": 4,
 "nbformat_minor": 2
}
